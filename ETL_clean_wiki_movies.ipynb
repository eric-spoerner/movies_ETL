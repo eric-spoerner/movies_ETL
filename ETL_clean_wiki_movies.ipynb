{
 "cells": [
  {
   "cell_type": "code",
   "execution_count": 1,
   "metadata": {},
   "outputs": [],
   "source": [
    "# TO DO:\n",
    "# create printouts/logs of record processing.  muck with logger framework\n",
    "    # Make sure to do error logging."
   ]
  },
  {
   "cell_type": "code",
   "execution_count": 2,
   "metadata": {},
   "outputs": [],
   "source": [
    "import json\n",
    "import pandas as pd\n",
    "import numpy as np\n",
    "\n",
    "import re\n",
    "\n",
    "from pprint import pprint\n",
    "\n",
    "from sqlalchemy import create_engine\n",
    "import psycopg2\n",
    "\n",
    "# from config import db_password\n",
    "\n",
    "import time"
   ]
  },
  {
   "cell_type": "code",
   "execution_count": 88,
   "metadata": {
    "tags": []
   },
   "outputs": [],
   "source": [
    "def parse_dollars(s):\n",
    "    if type(s) != str:\n",
    "        return np.nan\n",
    "    \n",
    "    # form one: r\"\\$\\s*\\d{1,3}\\.?\\d*\\s*[mb]illi?on\"\n",
    "    # form two: r\"\\$\\s*\\d+[,\\.]\\d{3}\"\n",
    "    \n",
    "    # form: \"$###.# billion: \n",
    "    # remove dollar signs, whitespace, and text.  \n",
    "    # Multiply by 1billion\n",
    "    if re.match(r\"\\$\\s*\\d{1,3}\\.?\\d*\\s*billi?on\", s, flags=re.IGNORECASE):\n",
    "        s = re.sub('\\$|\\s|[a-zA-Z]', '', s)\n",
    "        value = float(s) * 10**9\n",
    "        return value\n",
    "     \n",
    "    # form: \"$###.# million: \n",
    "    # remove dollar signs, whitespace, and text.  \n",
    "    # Multiply by 1million   \n",
    "    if re.match(r\"\\$\\s*\\d{1,3}\\.?\\d*\\s*milli?on\", s, flags=re.IGNORECASE):\n",
    "        s = re.sub('\\$|\\s|[a-zA-Z]', '', s)\n",
    "        value = float(s) * 10**6\n",
    "        return value    \n",
    "    \n",
    "    # form: $###,###,###\n",
    "    # strip dollar signs and thousands separators\n",
    "    if re.match(r\"\\$\\s*\\d+[,\\.]\\d{3}\", s, flags=re.IGNORECASE):\n",
    "        s = re.sub('\\$|,|\\.','',s)\n",
    "        value = float(s)\n",
    "        return value\n",
    "        \n",
    "    else:\n",
    "        return np.nan"
   ]
  },
  {
   "cell_type": "code",
   "execution_count": 3,
   "metadata": {
    "tags": []
   },
   "outputs": [],
   "source": [
    "# 1. Add the clean movie function that takes in the argument, \"movie\".\n",
    "def clean_movie(movie):\n",
    "    movie = dict(movie) # creates a non-destructive copy.  DON'T UNDERSTAND THIS SYNTAX\n",
    "    \n",
    "    # Clean alternate titles\n",
    "    alt_titles = dict()\n",
    "    languages = ['Arabic',\n",
    "                 'Cantonese',\n",
    "                 'Chinese',\n",
    "                 'French',\n",
    "                 'Hangul',\n",
    "                 'Hebrew',\n",
    "                 'Hepburn',\n",
    "                 'Japanese',\n",
    "                 'Literally',\n",
    "                 'Mandarin',\n",
    "                 'McCune–Reischauer',\n",
    "                 'Polish',\n",
    "                 'Revised Romanization',\n",
    "                 'Romanized',\n",
    "                 'Russian',\n",
    "                 'Simplified',\n",
    "                 'Traditional',\n",
    "                 'Yiddish']\n",
    "\n",
    "    for language in languages:\n",
    "        if language in movie:\n",
    "            alt_titles[language] = movie[language]\n",
    "            movie.pop(language)\n",
    "\n",
    "    if len(alt_titles) > 0:\n",
    "        movie['alt_titles'] = alt_titles\n",
    "    \n",
    "    def change_column_name(old_name, new_name):\n",
    "        if old_name in movie:\n",
    "            movie[new_name] = movie.pop(old_name)\n",
    "    \n",
    "    change_column_name('Country of origin', 'Country')\n",
    "    change_column_name('Directed by', 'Director(s)')\n",
    "    change_column_name('Director', 'Director(s)')\n",
    "    change_column_name('Distributed by', 'Distributor')\n",
    "    change_column_name('Edited by', 'Editor(s)')\n",
    "    change_column_name('Length', 'Running time')\n",
    "    change_column_name('Produced by', 'Producer(s)')\n",
    "    change_column_name('Producer', 'Producer(s)')\n",
    "    change_column_name('Written by', 'Writer(s)')\n",
    "    \n",
    "    return movie"
   ]
  },
  {
   "cell_type": "code",
   "execution_count": 96,
   "metadata": {
    "tags": []
   },
   "outputs": [],
   "source": [
    "# 2 Add the function that takes in three arguments;\n",
    "# Wikipedia data, Kaggle metadata, and MovieLens rating data (from Kaggle)\n",
    "def import_source_files(wiki_file: str,\n",
    "                        kaggle_file: str,\n",
    "                        ratings_file: str):\n",
    "    \"\"\"\n",
    "    Function takes three arguments, each corresponding to the name\n",
    "    of a specific source csv or json file for the three types of data \n",
    "    objects we are importing.  Returns all three objects as unique\n",
    "    pandas DataFrames.\n",
    "    \"\"\"\n",
    "    # 2. Read in the kaggle metadata and MovieLens ratings CSV files as Pandas DataFrames.\n",
    "    kaggle_metadata = pd.read_csv(kaggle_file, low_memory=False)\n",
    "    ratings = pd.read_csv(ratings_file)\n",
    "\n",
    "    # 3. Open the read the Wikipedia data JSON file.\n",
    "    with open(wiki_file, mode='r') as file:\n",
    "        wiki_movies_json = json.load(file)\n",
    "    \n",
    "    # Remove TV shows\n",
    "    wiki_movies_json = [wiki_movies_json[i]\\\n",
    "                        for i in range(len(wiki_movies_json))\\\n",
    "                        if 'No. of episodes' not in wiki_movies_json[i]]\n",
    "    \n",
    "    # Iterate through clean movie function to tidy columns\n",
    "    wiki_movies_json = [clean_movie(wiki_movies_json[i]) for i in range(len(wiki_movies_json))]\n",
    "    \n",
    "    # Create dataframe\n",
    "    wiki_movies_df = pd.DataFrame(wiki_movies_json)\n",
    "    \n",
    "    # Extract all IMDB IDs from valid URls and remove records that do not contain them\n",
    "    try:\n",
    "        wiki_movies_df.dropna(subset=['imdb_link'], inplace=True)\n",
    "        wiki_movies_df['imdb_id'] = wiki_movies_df['imdb_link'].str.extract(r'(tt\\d{7})')\n",
    "        wiki_movies_df.drop_duplicates(subset='imdb_id', inplace=True)\n",
    "    except:\n",
    "        print('IMDB extraction failed.')\n",
    "    \n",
    "    columns_to_drop = [column\\\n",
    "                         for column in wiki_movies_df.columns\\\n",
    "                         if wiki_movies_df[column].count() == 0]   \n",
    "        \n",
    "    wiki_movies_df.drop(columns=columns_to_drop, inplace=True)\n",
    "    \n",
    "    #Regex strings for currency patterns                                   \n",
    "    form_one = r\"\\$\\s*\\d{1,3}\\.?\\d*\\s*[mb]illi?on\"                                       \n",
    "    form_two = r\"\\$\\s*\\d+[,\\.]\\d{3}\"\n",
    "                                       \n",
    "    box_office = wiki_movies_df['Box office'].dropna()\n",
    "    box_office = box_office.apply(lambda x: ' '.join(x) if type(x) == list else x)                                       \n",
    "                                       \n",
    "    wiki_movies_df['box_office'] = box_office.str.\\\n",
    "                                    extract(f\"({form_one}|{form_two})\",\\\n",
    "                                            flags=re.IGNORECASE)[0].apply(parse_dollars)\n",
    "    wiki_movies_df.drop('Box office', axis=1, inplace=True)\n",
    "    \n",
    "    \n",
    "    # 5. Return the three DataFrames\n",
    "    return wiki_movies_df, kaggle_metadata, ratings"
   ]
  },
  {
   "cell_type": "code",
   "execution_count": 5,
   "metadata": {
    "tags": []
   },
   "outputs": [],
   "source": [
    "# 7. Set the three variables in Step 6 equal to the function created in Step 1.\n",
    "\n",
    "    # Read in the kaggle metadata and MovieLens ratings CSV files as Pandas DataFrames.\n",
    "    \n",
    "\n",
    "    # Open and read the Wikipedia data JSON file.\n",
    "    \n",
    "    \n",
    "    # 3. Write a list comprehension to filter out TV shows.\n",
    "    \n",
    "\n",
    "    # 4. Write a list comprehension to iterate through the cleaned wiki movies list\n",
    "    # and call the clean_movie function on each movie.\n",
    "    \n",
    "\n",
    "    # 5. Read in the cleaned movies list from Step 4 as a DataFrame.\n",
    "\n",
    "\n",
    "    # 6. Write a try-except block to catch errors while extracting the IMDb ID using a regular expression string and\n",
    "    #  dropping any imdb_id duplicates. If there is an error, capture and print the exception.\n",
    "#     try:\n",
    "        \n",
    "#     except \n",
    "\n",
    "    #  7. Write a list comprehension to keep the columns that don't have null values from the wiki_movies_df DataFrame.\n",
    "    \n",
    "\n",
    "    # 8. Create a variable that will hold the non-null values from the “Box office” column.\n",
    "\n",
    "    \n",
    "    # 9. Convert the box office data created in Step 8 to string values using the lambda and join functions.\n",
    "    \n",
    "\n",
    "    # 10. Write a regular expression to match the six elements of \"form_one\" of the box office data.\n",
    "   \n",
    "    # 11. Write a regular expression to match the three elements of \"form_two\" of the box office data.\n",
    "    \n",
    "\n",
    "    # 12. Add the parse_dollars function.\n",
    "    \n",
    "    \n",
    "        \n",
    "    # 13. Clean the box office column in the wiki_movies_df DataFrame.\n",
    "\n",
    "    \n",
    "    # 14. Clean the budget column in the wiki_movies_df DataFrame.\n",
    "    \n",
    "\n",
    "    # 15. Clean the release date column in the wiki_movies_df DataFrame.\n",
    "    \n",
    "\n",
    "    # 16. Clean the running time column in the wiki_movies_df DataFrame.\n",
    "    \n",
    "    # Return three variables. The first is the wiki_movies_df DataFrame\n"
   ]
  },
  {
   "cell_type": "code",
   "execution_count": 97,
   "metadata": {
    "tags": []
   },
   "outputs": [],
   "source": [
    "# 17. Create the path to your file directory and variables for the three files.\n",
    "file_dir = './data'\n",
    "# Wikipedia data\n",
    "wiki_file = f'{file_dir}/wikipedia-movies.json'\n",
    "# Kaggle metadata\n",
    "kaggle_file = f'{file_dir}/movies_metadata.csv'\n",
    "# MovieLens rating data.\n",
    "ratings_file = f'{file_dir}/ratings.csv'"
   ]
  },
  {
   "cell_type": "code",
   "execution_count": 98,
   "metadata": {
    "tags": []
   },
   "outputs": [],
   "source": [
    "# 18. Set the three variables equal to the function created in D1.\n",
    "wiki_file, kaggle_file, ratings_file = import_source_files(wiki_file=wiki_file, \n",
    "                                                           kaggle_file=kaggle_file, \n",
    "                                                           ratings_file=ratings_file)"
   ]
  },
  {
   "cell_type": "code",
   "execution_count": 99,
   "metadata": {},
   "outputs": [
    {
     "data": {
      "text/plain": [
       "7049"
      ]
     },
     "execution_count": 99,
     "metadata": {},
     "output_type": "execute_result"
    }
   ],
   "source": [
    "# 19. Set the wiki_movies_df equal to the wiki_file variable. \n",
    "wiki_movies_df = wiki_file\n",
    "wiki_movies_df[\"box_office\"].isnull().count()"
   ]
  },
  {
   "cell_type": "code",
   "execution_count": 38,
   "metadata": {
    "collapsed": true,
    "jupyter": {
     "outputs_hidden": true
    },
    "tags": []
   },
   "outputs": [
    {
     "data": {
      "text/plain": [
       "0                        $21.4 million\n",
       "1                         $2.7 million\n",
       "2                          $57,718,089\n",
       "3                           $7,331,647\n",
       "4                     $6,939,946 (USA)\n",
       "9                             $855,810\n",
       "10                      $195.3 million\n",
       "11                       $53.2 million\n",
       "12                       $15.7 million\n",
       "13                       $52.1 million\n",
       "14                      $244.5 million\n",
       "15                         $12,626,043\n",
       "17                         $19,740,070\n",
       "18                        $138,697,012\n",
       "20                          $1,292,323\n",
       "21                        $8.2 million\n",
       "22                       $15.6 million\n",
       "24                          $2,070,871\n",
       "25       $27.6 million (United States)\n",
       "27                             $10,173\n",
       "29                          $5 million\n",
       "33                       $35.8 million\n",
       "34                       US$ 4,212,828\n",
       "37                        $2.4 million\n",
       "39                            $947,306\n",
       "40                            $715,983\n",
       "42                       US$13,236,513\n",
       "43                        $8.3 million\n",
       "44                          $1,373,728\n",
       "45                      $424.2 million\n",
       "48                       $48.8 million\n",
       "50                      $157.9 million\n",
       "55                        $2.2 million\n",
       "56    $6,698,361 ( United States ) [2]\n",
       "58                   $2.7 million (US)\n",
       "59                      $162.7 million\n",
       "60                        $240 million\n",
       "63                          $2,346,150\n",
       "65                       $18.1 million\n",
       "66                         $86 million\n",
       "68                         $25 million\n",
       "69                          $1,372,350\n",
       "70                         $39 million\n",
       "74                         $14,760,451\n",
       "75                   $22,424,195 (USA)\n",
       "76                 $6,488,144 (US) [1]\n",
       "77                       $61.3 million\n",
       "78                          $1,823,154\n",
       "79                          $1,305,887\n",
       "80                            $205,068\n",
       "Name: Box office, dtype: object"
      ]
     },
     "execution_count": 38,
     "metadata": {},
     "output_type": "execute_result"
    }
   ],
   "source": [
    "# test\n",
    "box_office = wiki_movies_df['Box office'].dropna()\n",
    "box_office = box_office.apply(lambda x: ' '.join(x) if type(x) == list else x)\n",
    "box_office.head(50)"
   ]
  },
  {
   "cell_type": "code",
   "execution_count": 60,
   "metadata": {
    "collapsed": true,
    "jupyter": {
     "outputs_hidden": true
    },
    "tags": []
   },
   "outputs": [
    {
     "data": {
      "text/plain": [
       "0      True\n",
       "1      True\n",
       "2     False\n",
       "3     False\n",
       "4     False\n",
       "9     False\n",
       "10     True\n",
       "11     True\n",
       "12     True\n",
       "13     True\n",
       "14     True\n",
       "15    False\n",
       "17    False\n",
       "18    False\n",
       "20    False\n",
       "21     True\n",
       "22     True\n",
       "24    False\n",
       "25     True\n",
       "27    False\n",
       "29     True\n",
       "33     True\n",
       "34    False\n",
       "37     True\n",
       "39    False\n",
       "40    False\n",
       "42    False\n",
       "43     True\n",
       "44    False\n",
       "45     True\n",
       "48     True\n",
       "50     True\n",
       "55     True\n",
       "56    False\n",
       "58     True\n",
       "59     True\n",
       "60     True\n",
       "63    False\n",
       "65     True\n",
       "66     True\n",
       "68     True\n",
       "69    False\n",
       "70     True\n",
       "74    False\n",
       "75    False\n",
       "76    False\n",
       "77     True\n",
       "78    False\n",
       "79    False\n",
       "80    False\n",
       "Name: Box office, dtype: bool"
      ]
     },
     "execution_count": 60,
     "metadata": {},
     "output_type": "execute_result"
    }
   ],
   "source": [
    "# ES exploratory notes: delete me when done\n",
    "form_one = r\"\\$\\s*\\d{1,3}\\.?\\d*\\s*[mb]illi?on\"\n",
    "contains_form_one = box_office.str.contains(pat=form_one, flags=re.IGNORECASE, na=False)\n",
    "contains_form_one.head(50)"
   ]
  },
  {
   "cell_type": "code",
   "execution_count": 61,
   "metadata": {
    "collapsed": true,
    "jupyter": {
     "outputs_hidden": true
    },
    "tags": []
   },
   "outputs": [
    {
     "data": {
      "text/plain": [
       "2                           $57,718,089\n",
       "3                            $7,331,647\n",
       "4                      $6,939,946 (USA)\n",
       "9                              $855,810\n",
       "15                          $12,626,043\n",
       "17                          $19,740,070\n",
       "18                         $138,697,012\n",
       "20                           $1,292,323\n",
       "24                           $2,070,871\n",
       "27                              $10,173\n",
       "34                        US$ 4,212,828\n",
       "39                             $947,306\n",
       "40                             $715,983\n",
       "42                        US$13,236,513\n",
       "44                           $1,373,728\n",
       "56     $6,698,361 ( United States ) [2]\n",
       "63                           $2,346,150\n",
       "69                           $1,372,350\n",
       "74                          $14,760,451\n",
       "75                    $22,424,195 (USA)\n",
       "76                  $6,488,144 (US) [1]\n",
       "78                           $1,823,154\n",
       "79                           $1,305,887\n",
       "80                             $205,068\n",
       "81                             $335.000\n",
       "82                          $21,460,601\n",
       "95                          $13,446,769\n",
       "100                          $4,960,385\n",
       "102                     $5,728,953 (US)\n",
       "103                          $9,243,140\n",
       "104                          $4,134,992\n",
       "106                       $609,939 (US)\n",
       "109                          $1,293,976\n",
       "112                  $4.35-4.37 million\n",
       "128             US$1,531,489 (domestic)\n",
       "130                    $3,473,905 (USA)\n",
       "132                       US$ 4,803,039\n",
       "134                          $5,585,154\n",
       "138                  $21,036,771 (U.S.)\n",
       "142                      $129,778 (USA)\n",
       "146                   $16,247,964 (USA)\n",
       "148                            $139,155\n",
       "153                          $9,888,167\n",
       "157                          $1,464,242\n",
       "158       $16,153,600 (USA) (sub-total)\n",
       "163                          $4,011,793\n",
       "164                         $15,379,253\n",
       "165                          $7,698,010\n",
       "168                         $10,873,237\n",
       "177                         $11,359,129\n",
       "Name: Box office, dtype: object"
      ]
     },
     "execution_count": 61,
     "metadata": {},
     "output_type": "execute_result"
    }
   ],
   "source": [
    "# ES exploratory notes: delete me when done\n",
    "box_office[~contains_form_one].head(50)"
   ]
  },
  {
   "cell_type": "code",
   "execution_count": 62,
   "metadata": {
    "tags": []
   },
   "outputs": [
    {
     "data": {
      "text/plain": [
       "81      $335.000\n",
       "1676    $520.000\n",
       "2453    $282.175\n",
       "2940    $414.000\n",
       "3044    $621.000\n",
       "4273    $161.000\n",
       "Name: Box office, dtype: object"
      ]
     },
     "execution_count": 66,
     "metadata": {},
     "output_type": "execute_result"
    }
   ],
   "source": [
    "# exploratory: remove form two\n",
    "form_two = r\"\\$\\s*\\d+[,\\.]\\d{3}\"\n",
    "contains_form_two = box_office[~contains_form_one].\\\n",
    "                    str.contains(pat=form_two, flags=re.IGNORECASE, na=False)\n",
    "# contains_form_two.head(50)\n",
    "box_office[~contains_form_one & ~contains_form_two]"
   ]
  },
  {
   "cell_type": "code",
   "execution_count": 45,
   "metadata": {
    "tags": []
   },
   "outputs": [],
   "source": [
    "# ES: exploratory: Export columns to csv file for analysis and mapping\n",
    "count_list = wiki_movies_df.count()\n",
    "col_count_df = pd.DataFrame(count_list)\n",
    "col_count_df.to_csv('data\\wiki_col_count.csv')"
   ]
  },
  {
   "cell_type": "code",
   "execution_count": 11,
   "metadata": {
    "tags": []
   },
   "outputs": [
    {
     "data": {
      "text/plain": [
       "url                  7049\n",
       "year                 7049\n",
       "imdb_link            7049\n",
       "title                7044\n",
       "Screenplay by        2307\n",
       "                     ... \n",
       "Film(s)                 1\n",
       "Screen story by         1\n",
       "Original work           1\n",
       "Television series       1\n",
       "imdb_id              7049\n",
       "Length: 91, dtype: int64"
      ]
     },
     "execution_count": 11,
     "metadata": {},
     "output_type": "execute_result"
    }
   ],
   "source": [
    "# 20. Check that the wiki_movies_df DataFrame looks like this. \n",
    "wiki_movies_df.count()"
   ]
  },
  {
   "cell_type": "code",
   "execution_count": 95,
   "metadata": {
    "tags": []
   },
   "outputs": [
    {
     "data": {
      "text/plain": [
       "['url',\n",
       " 'year',\n",
       " 'imdb_link',\n",
       " 'title',\n",
       " 'Screenplay by',\n",
       " 'Story by',\n",
       " 'Based on',\n",
       " 'Starring',\n",
       " 'Narrated by',\n",
       " 'Music by',\n",
       " 'Cinematography',\n",
       " 'Productioncompany ',\n",
       " 'Release date',\n",
       " 'Running time',\n",
       " 'Country',\n",
       " 'Language',\n",
       " 'Budget',\n",
       " 'Box office',\n",
       " 'Director(s)',\n",
       " 'Distributor',\n",
       " 'Editor(s)',\n",
       " 'Producer(s)',\n",
       " 'Writer(s)',\n",
       " 'Genre',\n",
       " 'Theme music composer',\n",
       " 'Original language(s)',\n",
       " 'Production company(s)',\n",
       " 'Original network',\n",
       " 'Original release',\n",
       " 'Productioncompanies ',\n",
       " 'Executive producer(s)',\n",
       " 'Production location(s)',\n",
       " 'Picture format',\n",
       " 'Audio format',\n",
       " 'Voices of',\n",
       " 'Followed by',\n",
       " 'Composer(s)',\n",
       " 'Created by',\n",
       " 'Preceded by',\n",
       " 'Author',\n",
       " 'Publisher',\n",
       " 'Publication date',\n",
       " 'Media type',\n",
       " 'Pages',\n",
       " 'ISBN',\n",
       " 'OCLC',\n",
       " 'LC Class',\n",
       " 'Cover artist',\n",
       " 'Series',\n",
       " 'Set in',\n",
       " 'Adaptation by',\n",
       " 'Suggested by',\n",
       " 'alt_titles',\n",
       " 'Released',\n",
       " 'Recorded',\n",
       " 'Venue',\n",
       " 'Label',\n",
       " 'Area',\n",
       " 'Coordinates',\n",
       " 'Status',\n",
       " 'Opening date',\n",
       " 'Closing date',\n",
       " 'Replaced',\n",
       " 'Replaced by',\n",
       " 'Name',\n",
       " 'Attraction type',\n",
       " 'Music',\n",
       " 'Duration',\n",
       " 'Also known as',\n",
       " 'Animation by',\n",
       " 'Color process',\n",
       " 'Characters',\n",
       " 'Date premiered',\n",
       " 'Place premiered',\n",
       " 'Setting',\n",
       " 'Original language',\n",
       " 'Subject',\n",
       " 'Text',\n",
       " 'Original title',\n",
       " 'Nationality',\n",
       " 'Portrayed by',\n",
       " 'Alias',\n",
       " 'Species',\n",
       " 'Gender',\n",
       " 'Family',\n",
       " 'Alma mater',\n",
       " 'Film(s)',\n",
       " 'Screen story by',\n",
       " 'Original work',\n",
       " 'Television series',\n",
       " 'imdb_id',\n",
       " 'box_office']"
      ]
     },
     "execution_count": 95,
     "metadata": {},
     "output_type": "execute_result"
    }
   ],
   "source": [
    "# 21. Check that wiki_movies_df DataFrame columns are correct. \n",
    "wiki_movies_df.columns.to_list()"
   ]
  },
  {
   "cell_type": "code",
   "execution_count": 19,
   "metadata": {},
   "outputs": [
    {
     "name": "stdout",
     "output_type": "stream",
     "text": [
      "['Theme music composer', 'Production location(s)', 'Picture format', 'Audio format', 'Voices of', 'Followed by', 'Composer(s)', 'Created by', 'Preceded by', 'Author', 'Publisher', 'Publication date', 'Media type', 'Pages', 'ISBN', 'OCLC', 'LC Class', 'Cover artist', 'Series', 'Set in', 'Adaptation by', 'Suggested by', 'alt_titles', 'Released', 'Recorded', 'Venue', 'Label', 'Area', 'Coordinates', 'Status', 'Opening date', 'Closing date', 'Replaced', 'Replaced by', 'Name', 'Attraction type', 'Music', 'Duration', 'Also known as', 'Animation by', 'Color process', 'Characters', 'Date premiered', 'Place premiered', 'Setting', 'Original language', 'Subject', 'Text', 'Original title', 'Nationality', 'Portrayed by', 'Alias', 'Species', 'Gender', 'Family', 'Alma mater', 'Film(s)', 'Screen story by', 'Original work', 'Television series']\n"
     ]
    }
   ],
   "source": [
    "print([column\\\n",
    "       for column in wiki_movies_df.columns\\\n",
    "       if wiki_movies_df[column].count()/len(wiki_movies_df) < .01])"
   ]
  },
  {
   "cell_type": "code",
   "execution_count": null,
   "metadata": {},
   "outputs": [],
   "source": []
  },
  {
   "cell_type": "code",
   "execution_count": null,
   "metadata": {},
   "outputs": [],
   "source": []
  }
 ],
 "metadata": {
  "kernelspec": {
   "display_name": "PythonData",
   "language": "python",
   "name": "pythondata"
  },
  "language_info": {
   "codemirror_mode": {
    "name": "ipython",
    "version": 3
   },
   "file_extension": ".py",
   "mimetype": "text/x-python",
   "name": "python",
   "nbconvert_exporter": "python",
   "pygments_lexer": "ipython3",
   "version": "3.7.11"
  }
 },
 "nbformat": 4,
 "nbformat_minor": 4
}
